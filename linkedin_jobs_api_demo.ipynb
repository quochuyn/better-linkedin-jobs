{
 "cells": [
  {
   "cell_type": "markdown",
   "metadata": {},
   "source": [
    "## LinkedIn Jobs API Demo\n",
    "\n",
    "This notebook details a local demonstration on how to use the web-scraping Scraping Dog API to access LinkedIn job postings. Using a web-scraping API is easy to use (no CAPTCHAs), bypasses proxy limits, and avoids any legal trouble. However, we are limited by API rates and the current functionality of the API. Official documentation can be found with this [link](https://docs.scrapingdog.com/linkedin-jobs-scraper)."
   ]
  },
  {
   "cell_type": "code",
   "execution_count": 2,
   "metadata": {},
   "outputs": [],
   "source": [
    "import pandas as pd\n",
    "\n",
    "import get_linkedin_jobs_data"
   ]
  },
  {
   "cell_type": "markdown",
   "metadata": {},
   "source": [
    "You will have to write your own `secrets.toml` file containing your own Scraping Dog API key if you wish to use our custom function. Otherwise, you can simply set the `SCRAPING_DOG_API_KEY` to your key as a string. The Scraping Dog API key obtained in the [member area](https://api.scrapingdog.com/dashboard/65cdb16ffac36d5508c81b26)."
   ]
  },
  {
   "cell_type": "code",
   "execution_count": 3,
   "metadata": {},
   "outputs": [],
   "source": [
    "# Step 1: Obtain API key.\n",
    "SCRAPING_DOG_API_KEY = get_linkedin_jobs_data.get_scraping_dog_api_key()\n",
    "\n",
    "# Alternatively, uncomment this line and insert your own API key.\n",
    "# SCRAPING_DOG_API_KEY = \"\" "
   ]
  },
  {
   "cell_type": "code",
   "execution_count": 4,
   "metadata": {},
   "outputs": [],
   "source": [
    "# Step 2: Grab job postings.\n",
    "data = get_linkedin_jobs_data.fetch_jobs_from_page(\n",
    "    api_key=SCRAPING_DOG_API_KEY,\n",
    "    field='data scientist',\n",
    "    geoid='102095887',\n",
    "    page=1,\n",
    "    sort_by='day' # Optional parameter to sort jobs based on their posting date: {`day`, `week`, `month`}\n",
    ")"
   ]
  },
  {
   "cell_type": "code",
   "execution_count": 12,
   "metadata": {},
   "outputs": [
    {
     "name": "stdout",
     "output_type": "stream",
     "text": [
      "https://www.linkedin.com/jobs/view/data-scientist-marketing-at-notion-3834722481?position=1&pageNum=0&refId=vnasdgjLV%2FNfzYwIMcV5uQ%3D%3D&trackingId=XLj6LIm3ra15oXYfbJcRfw%3D%3D&trk=public_jobs_jserp-result_search-card\n",
      "https://www.linkedin.com/jobs/view/data-scientist-product-at-notion-3834718979?position=2&pageNum=0&refId=vnasdgjLV%2FNfzYwIMcV5uQ%3D%3D&trackingId=Nd4okBLYgH9GoLnrHQNxNQ%3D%3D&trk=public_jobs_jserp-result_search-card\n",
      "https://www.linkedin.com/jobs/view/data-scientist-monetization-at-notion-3834718980?position=3&pageNum=0&refId=vnasdgjLV%2FNfzYwIMcV5uQ%3D%3D&trackingId=tRk%2FAfyXTXOVa57QNnFhBA%3D%3D&trk=public_jobs_jserp-result_search-card\n",
      "https://www.linkedin.com/jobs/view/machine-learning-engineer-at-tigergraph-3835748265?position=4&pageNum=0&refId=vnasdgjLV%2FNfzYwIMcV5uQ%3D%3D&trackingId=%2FypOvaA70rkifznAF%2Bkpkw%3D%3D&trk=public_jobs_jserp-result_search-card\n",
      "https://www.linkedin.com/jobs/view/biology-scientist-at-pacer-staffing-llc-3834753039?position=5&pageNum=0&refId=vnasdgjLV%2FNfzYwIMcV5uQ%3D%3D&trackingId=7N60QxdQFqn5ukgp7J%2B7hg%3D%3D&trk=public_jobs_jserp-result_search-card\n",
      "https://www.linkedin.com/jobs/view/junior-data-scientist-at-flexon-technologies-inc-3818732868?position=6&pageNum=0&refId=vnasdgjLV%2FNfzYwIMcV5uQ%3D%3D&trackingId=MhaLaF%2F21BzOA%2F4rGRzfSQ%3D%3D&trk=public_jobs_jserp-result_search-card\n",
      "https://www.linkedin.com/jobs/view/data-scientist-fraud-detection-at-petco-3809090936?position=7&pageNum=0&refId=vnasdgjLV%2FNfzYwIMcV5uQ%3D%3D&trackingId=TZQXTkcqNrhs0dyGvVsQsQ%3D%3D&trk=public_jobs_jserp-result_search-card\n",
      "https://www.linkedin.com/jobs/view/data-scientist-at-trispoke-managed-services-pvt-ltd-3834731937?position=8&pageNum=0&refId=vnasdgjLV%2FNfzYwIMcV5uQ%3D%3D&trackingId=i5EXm8s2F4VX2MxykuRxWA%3D%3D&trk=public_jobs_jserp-result_search-card\n",
      "https://www.linkedin.com/jobs/view/data-scientist-l5-applied-research-consumer-insights-at-netflix-3823888190?position=9&pageNum=0&refId=vnasdgjLV%2FNfzYwIMcV5uQ%3D%3D&trackingId=mxwO0XhpOMK0e4f%2B8HdeCQ%3D%3D&trk=public_jobs_jserp-result_search-card\n",
      "https://www.linkedin.com/jobs/view/data-scientist-creators-at-notion-3728539719?position=10&pageNum=0&refId=vnasdgjLV%2FNfzYwIMcV5uQ%3D%3D&trackingId=TqXqLI7oaSqvrektmSCwJw%3D%3D&trk=public_jobs_jserp-result_search-card\n"
     ]
    }
   ],
   "source": [
    "# do web scraping ourselves and obtain the job description\n",
    "# filter on the years of experience required\n",
    "for job in data:\n",
    "    job_link = job['job_link']\n",
    "    \n",
    "    "
   ]
  },
  {
   "cell_type": "code",
   "execution_count": 7,
   "metadata": {},
   "outputs": [],
   "source": [
    "jobs_df = pd.DataFrame(data)"
   ]
  },
  {
   "cell_type": "code",
   "execution_count": 9,
   "metadata": {},
   "outputs": [
    {
     "name": "stdout",
     "output_type": "stream",
     "text": [
      "<class 'pandas.core.frame.DataFrame'>\n",
      "RangeIndex: 10 entries, 0 to 9\n",
      "Data columns (total 7 columns):\n",
      " #   Column            Non-Null Count  Dtype \n",
      "---  ------            --------------  ----- \n",
      " 0   job_position      10 non-null     object\n",
      " 1   job_link          10 non-null     object\n",
      " 2   job_id            10 non-null     object\n",
      " 3   company_name      10 non-null     object\n",
      " 4   company_profile   10 non-null     object\n",
      " 5   job_location      10 non-null     object\n",
      " 6   job_posting_date  10 non-null     object\n",
      "dtypes: object(7)\n",
      "memory usage: 688.0+ bytes\n"
     ]
    }
   ],
   "source": [
    "jobs_df.info()"
   ]
  }
 ],
 "metadata": {
  "kernelspec": {
   "display_name": "Python 3",
   "language": "python",
   "name": "python3"
  },
  "language_info": {
   "codemirror_mode": {
    "name": "ipython",
    "version": 3
   },
   "file_extension": ".py",
   "mimetype": "text/x-python",
   "name": "python",
   "nbconvert_exporter": "python",
   "pygments_lexer": "ipython3",
   "version": "3.9.12"
  }
 },
 "nbformat": 4,
 "nbformat_minor": 2
}
