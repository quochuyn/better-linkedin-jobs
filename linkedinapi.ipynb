{
 "cells": [
  {
   "cell_type": "code",
   "execution_count": 34,
   "metadata": {},
   "outputs": [],
   "source": [
    "import requests\n",
    "\n",
    "def fetch_jobs_from_page(page_number):\n",
    "    # Define the URL and parameters\n",
    "    url = \"https://api.scrapingdog.com/linkedinjobs/\"\n",
    "    params = {\n",
    "        \"api_key\": \"#\",##\n",
    "        \"field\": \"data analyst\",\n",
    "        \"geoid\": \"103918656\",\n",
    "        \"page\": str(page_number)\n",
    "    }\n",
    "\n",
    "    # Send a GET request with the parameters\n",
    "    response = requests.get(url, params=params)\n",
    "\n",
    "    # Check if the request was successful (status code 200)\n",
    "    if response.status_code == 200:\n",
    "        # Access the response content\n",
    "        data = response.json()\n",
    "        return data\n",
    "    else:\n",
    "        print(\"Request for page\", page_number, \"failed with status code:\", response.status_code)\n",
    "        return None\n",
    "\n",
    "# List to store combined data\n",
    "all_data = []\n",
    "\n",
    "# Loop through pages 1 to 5\n",
    "for page in range(1, 6):\n",
    "    data = fetch_jobs_from_page(page)\n",
    "    if data:\n",
    "        all_data.extend(data)\n",
    "\n"
   ]
  },
  {
   "cell_type": "code",
   "execution_count": 35,
   "metadata": {},
   "outputs": [
    {
     "name": "stdout",
     "output_type": "stream",
     "text": [
      "123\n"
     ]
    }
   ],
   "source": [
    "print(len(all_data))"
   ]
  },
  {
   "cell_type": "code",
   "execution_count": 36,
   "metadata": {},
   "outputs": [],
   "source": [
    "data = all_data"
   ]
  },
  {
   "cell_type": "code",
   "execution_count": 37,
   "metadata": {},
   "outputs": [
    {
     "name": "stdout",
     "output_type": "stream",
     "text": [
      "Job 1:\n",
      "  Position: Data Analyst (Bangkok-based, Relocation provided)\n",
      "  Company: Agoda\n",
      "  Location: San Diego, CA\n",
      "  Posting Date: 2023-10-31\n",
      "  Link: https://www.linkedin.com/jobs/view/data-analyst-bangkok-based-relocation-provided-at-agoda-3750890525?refId=9IZB%2FRm6TaLqqXEWIb7FBQ%3D%3D&trackingId=Y6rHQYAiyauTuwjxgZDE%2Fw%3D%3D&position=2&pageNum=1&trk=public_jobs_jserp-result_search-card\n",
      "  Company Profile: https://sg.linkedin.com/company/agoda?trk=public_jobs_jserp-result_job-search-card-subtitle\n",
      "\n",
      "Job 8:\n",
      "  Position: Senior Data Analyst (Flights team, Bangkok-based, Relocation provided)\n",
      "  Company: Agoda\n",
      "  Location: San Diego, CA\n",
      "  Posting Date: 2023-10-31\n",
      "  Link: https://www.linkedin.com/jobs/view/senior-data-analyst-flights-team-bangkok-based-relocation-provided-at-agoda-3750894285?refId=9IZB%2FRm6TaLqqXEWIb7FBQ%3D%3D&trackingId=AZ%2BETk1YxGzCfTTpZD8VTQ%3D%3D&position=9&pageNum=1&trk=public_jobs_jserp-result_search-card\n",
      "  Company Profile: https://sg.linkedin.com/company/agoda?trk=public_jobs_jserp-result_job-search-card-subtitle\n",
      "\n",
      "Job 10:\n",
      "  Position: Insurance - Data Analyst - REMOTE\n",
      "  Company: Wahve LLC\n",
      "  Location: San Diego, CA\n",
      "  Posting Date: 2023-10-27\n",
      "  Link: https://www.linkedin.com/jobs/view/insurance-data-analyst-remote-at-wahve-llc-3752215013?refId=9IZB%2FRm6TaLqqXEWIb7FBQ%3D%3D&trackingId=ULHPdP049mBpH7Z0qotfdw%3D%3D&position=11&pageNum=1&trk=public_jobs_jserp-result_search-card\n",
      "  Company Profile: https://www.linkedin.com/company/wahve?trk=public_jobs_jserp-result_job-search-card-subtitle\n",
      "\n",
      "Job 24:\n",
      "  Position: Clinical Research Data Analyst 4 - 126232\n",
      "  Company: UC San Diego Health\n",
      "  Location: San Diego, CA\n",
      "  Posting Date: 2023-10-27\n",
      "  Link: https://www.linkedin.com/jobs/view/clinical-research-data-analyst-4-126232-at-uc-san-diego-health-3752194106?refId=9IZB%2FRm6TaLqqXEWIb7FBQ%3D%3D&trackingId=gXSJC15is5nur1D65yJm0Q%3D%3D&position=25&pageNum=1&trk=public_jobs_jserp-result_search-card\n",
      "  Company Profile: https://www.linkedin.com/company/ucsdhealth?trk=public_jobs_jserp-result_job-search-card-subtitle\n",
      "\n",
      "Job 28:\n",
      "  Position: Data Analyst (Supply Analytics team, Bangkok-based, Relocation provided)\n",
      "  Company: Agoda\n",
      "  Location: San Diego, CA\n",
      "  Posting Date: 2023-10-31\n",
      "  Link: https://www.linkedin.com/jobs/view/data-analyst-supply-analytics-team-bangkok-based-relocation-provided-at-agoda-3750818128?refId=tpBuDADKzAwps4gRT0PtYg%3D%3D&trackingId=NKuAv43CqaLwceYdCn4QBw%3D%3D&position=4&pageNum=2&trk=public_jobs_jserp-result_search-card\n",
      "  Company Profile: https://sg.linkedin.com/company/agoda?trk=public_jobs_jserp-result_job-search-card-subtitle\n",
      "\n",
      "Job 40:\n",
      "  Position: Data Analyst (Bangkok-based, Relocation provided)\n",
      "  Company: Agoda\n",
      "  Location: San Diego, CA\n",
      "  Posting Date: 2023-10-31\n",
      "  Link: https://www.linkedin.com/jobs/view/data-analyst-bangkok-based-relocation-provided-at-agoda-3750890525?refId=tpBuDADKzAwps4gRT0PtYg%3D%3D&trackingId=GN7d39WzJDNbOHOb2DXn5A%3D%3D&position=16&pageNum=2&trk=public_jobs_jserp-result_search-card\n",
      "  Company Profile: https://sg.linkedin.com/company/agoda?trk=public_jobs_jserp-result_job-search-card-subtitle\n",
      "\n",
      "Job 69:\n",
      "  Position: Senior Data Analyst (Bangkok Based, relocation provided)\n",
      "  Company: Agoda\n",
      "  Location: San Diego, CA\n",
      "  Posting Date: 2023-10-21\n",
      "  Link: https://www.linkedin.com/jobs/view/senior-data-analyst-bangkok-based-relocation-provided-at-agoda-3712809217?refId=H9y61G1gD5KjUPIvhvP4CQ%3D%3D&trackingId=4OM088WANlnjPrpWSzgNiA%3D%3D&position=21&pageNum=3&trk=public_jobs_jserp-result_search-card\n",
      "  Company Profile: https://sg.linkedin.com/company/agoda?trk=public_jobs_jserp-result_job-search-card-subtitle\n",
      "\n",
      "Job 116:\n",
      "  Position: Sr Data Analyst - 1663452 with Security Clearance\n",
      "  Company: ClearanceJobs\n",
      "  Location: San Diego, CA\n",
      "  Posting Date: 2023-10-31\n",
      "  Link: https://www.linkedin.com/jobs/view/sr-data-analyst-1663452-with-security-clearance-at-clearancejobs-3755653974?refId=3HuF0tMrgIMOygawm%2B4aKw%3D%3D&trackingId=H3p01JuCZe7rUOA6T4A0wA%3D%3D&position=19&pageNum=5&trk=public_jobs_jserp-result_search-card\n",
      "  Company Profile: https://www.linkedin.com/company/clearancejobs.com?trk=public_jobs_jserp-result_job-search-card-subtitle\n",
      "\n"
     ]
    }
   ],
   "source": [
    "from datetime import datetime, timedelta\n",
    "\n",
    "# Current date\n",
    "today = datetime.now()\n",
    "# Two days ago from the current date\n",
    "n_days_ago = today - timedelta(days=14)\n",
    "\n",
    "for idx, job in enumerate(data):\n",
    "    # Convert the job posting date string into a datetime object\n",
    "    job_date = datetime.strptime(job['job_posting_date'], '%Y-%m-%d')  # Assuming the date format is 'YYYY-MM-DD'\n",
    "    \n",
    "    # Check if the job posting date is at least two days ago or earlier\n",
    "    if job_date >= n_days_ago:\n",
    "#        print(f\"  Posting Date: {job['job_posting_date']}\")\n",
    "        if \"Data Analyst\" in job['job_position']:\n",
    "            print(f\"Job {idx}:\")\n",
    "            print(f\"  Position: {job['job_position']}\")\n",
    "            print(f\"  Company: {job['company_name']}\")\n",
    "            print(f\"  Location: {job['job_location']}\")\n",
    "            print(f\"  Posting Date: {job['job_posting_date']}\")\n",
    "            print(f\"  Link: {job['job_link']}\")\n",
    "            print(f\"  Company Profile: {job['company_profile']}\\n\")\n"
   ]
  },
  {
   "cell_type": "code",
   "execution_count": 13,
   "metadata": {},
   "outputs": [
    {
     "name": "stdout",
     "output_type": "stream",
     "text": [
      "Job 0:\n",
      "  Position: Expression of Interest: Senior Data Scientist\n",
      "  Company: Fingerprint for Success (F4S)\n",
      "  Location: San Diego, CA\n",
      "  Posting Date: 2023-09-10\n",
      "  Link: https://www.linkedin.com/jobs/view/expression-of-interest-senior-data-scientist-at-fingerprint-for-success-f4s-3734615770?refId=qBJ4LDwneLz14X4hbhWwmQ%3D%3D&trackingId=AsjvSsM6HeQYMj1D5Bs0dg%3D%3D&position=1&pageNum=1&trk=public_jobs_jserp-result_search-card\n",
      "  Company Profile: https://au.linkedin.com/company/fingerprint-for-success?trk=public_jobs_jserp-result_job-search-card-subtitle\n",
      "\n",
      "Job 1:\n",
      "  Position: Data Scientist, Mid\n",
      "  Company: Booz Allen Hamilton\n",
      "  Location: San Diego, CA\n",
      "  Posting Date: 2023-11-01\n",
      "  Link: https://www.linkedin.com/jobs/view/data-scientist-mid-at-booz-allen-hamilton-3751774506?refId=qBJ4LDwneLz14X4hbhWwmQ%3D%3D&trackingId=Cl35A7qDSFEYWyRY8yby7Q%3D%3D&position=2&pageNum=1&trk=public_jobs_jserp-result_search-card\n",
      "  Company Profile: https://www.linkedin.com/company/booz-allen-hamilton?trk=public_jobs_jserp-result_job-search-card-subtitle\n",
      "\n",
      "Job 3:\n",
      "  Position: Data Scientist (IV) – Generative AI\n",
      "  Company: HP\n",
      "  Location: San Diego, CA\n",
      "  Posting Date: 2023-10-19\n",
      "  Link: https://www.linkedin.com/jobs/view/data-scientist-iv-%E2%80%93-generative-ai-at-hp-3735041109?refId=qBJ4LDwneLz14X4hbhWwmQ%3D%3D&trackingId=J6z88%2BciTvUcLjD8asPZ4w%3D%3D&position=4&pageNum=1&trk=public_jobs_jserp-result_search-card\n",
      "  Company Profile: https://www.linkedin.com/company/hp?trk=public_jobs_jserp-result_job-search-card-subtitle\n",
      "\n",
      "Job 5:\n",
      "  Position: Expression of Interest: Senior Data Scientist\n",
      "  Company: Fingerprint for Success (F4S)\n",
      "  Location: San Diego, CA\n",
      "  Posting Date: 2023-08-24\n",
      "  Link: https://www.linkedin.com/jobs/view/expression-of-interest-senior-data-scientist-at-fingerprint-for-success-f4s-3702981958?refId=qBJ4LDwneLz14X4hbhWwmQ%3D%3D&trackingId=XcOoD%2BQqEPG7DeGweJyyKw%3D%3D&position=6&pageNum=1&trk=public_jobs_jserp-result_search-card\n",
      "  Company Profile: https://au.linkedin.com/company/fingerprint-for-success?trk=public_jobs_jserp-result_job-search-card-subtitle\n",
      "\n",
      "Job 8:\n",
      "  Position: Data Scientist (Temp, Possible Temp-to-Hire)\n",
      "  Company: National Funding\n",
      "  Location: San Diego Metropolitan Area\n",
      "  Posting Date: 2023-11-01\n",
      "  Link: https://www.linkedin.com/jobs/view/data-scientist-temp-possible-temp-to-hire-at-national-funding-3747583668?refId=qBJ4LDwneLz14X4hbhWwmQ%3D%3D&trackingId=h9fjZ34FENICiIh70oBubg%3D%3D&position=9&pageNum=1&trk=public_jobs_jserp-result_search-card\n",
      "  Company Profile: https://www.linkedin.com/company/national-funding?trk=public_jobs_jserp-result_job-search-card-subtitle\n",
      "\n",
      "Job 23:\n",
      "  Position: Principal Data Scientist\n",
      "  Company: CoreLogic\n",
      "  Location: San Diego, CA\n",
      "  Posting Date: 2023-10-21\n",
      "  Link: https://www.linkedin.com/jobs/view/principal-data-scientist-at-corelogic-3712634719?refId=qBJ4LDwneLz14X4hbhWwmQ%3D%3D&trackingId=m%2B6D%2FedGhYoiT85CMtSH0g%3D%3D&position=24&pageNum=1&trk=public_jobs_jserp-result_search-card\n",
      "  Company Profile: https://www.linkedin.com/company/corelogic?trk=public_jobs_jserp-result_job-search-card-subtitle\n",
      "\n"
     ]
    }
   ],
   "source": [
    "for idx, job in enumerate(data):\n",
    "    if \"Data Scientist\" in job['job_position']:\n",
    "        print(f\"Job {idx}:\")\n",
    "        print(f\"  Position: {job['job_position']}\")\n",
    "        print(f\"  Company: {job['company_name']}\")\n",
    "        print(f\"  Location: {job['job_location']}\")\n",
    "        print(f\"  Posting Date: {job['job_posting_date']}\")\n",
    "        print(f\"  Link: {job['job_link']}\")\n",
    "        print(f\"  Company Profile: {job['company_profile']}\\n\")"
   ]
  },
  {
   "cell_type": "code",
   "execution_count": 25,
   "metadata": {},
   "outputs": [
    {
     "name": "stdout",
     "output_type": "stream",
     "text": [
      "125\n"
     ]
    }
   ],
   "source": [
    "print(len(all_data))"
   ]
  },
  {
   "cell_type": "markdown",
   "metadata": {},
   "source": [
    "old"
   ]
  },
  {
   "cell_type": "code",
   "execution_count": null,
   "metadata": {},
   "outputs": [],
   "source": [
    "import requests\n",
    "\n",
    "# Define the URL and parameters\n",
    "url = \"https://api.scrapingdog.com/linkedinjobs/\"\n",
    "params = {\n",
    "    \"api_key\": \"654402c2c645a668d5e25c07\",\n",
    "    \"field\": \"data scientist\",\n",
    "    \"geoid\": \"103918656\",\n",
    "    \"page\": \"1\"\n",
    "}\n",
    "\n",
    "# Send a GET request with the parameters\n",
    "response = requests.get(url, params=params)\n",
    "\n",
    "# Check if the request was successful (status code 200)\n",
    "if response.status_code == 200:\n",
    "    # Access the response content\n",
    "    data = response.json()\n",
    "    print(data)\n",
    "else:\n",
    "    print(\"Request failed with status code:\", response.status_code)\n"
   ]
  }
 ],
 "metadata": {
  "kernelspec": {
   "display_name": "Python 3",
   "language": "python",
   "name": "python3"
  },
  "language_info": {
   "codemirror_mode": {
    "name": "ipython",
    "version": 3
   },
   "file_extension": ".py",
   "mimetype": "text/x-python",
   "name": "python",
   "nbconvert_exporter": "python",
   "pygments_lexer": "ipython3",
   "version": "3.10.0"
  }
 },
 "nbformat": 4,
 "nbformat_minor": 2
}
